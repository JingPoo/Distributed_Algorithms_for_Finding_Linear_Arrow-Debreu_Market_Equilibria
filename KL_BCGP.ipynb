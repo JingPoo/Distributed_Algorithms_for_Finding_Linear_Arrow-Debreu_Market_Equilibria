{
 "cells": [
  {
   "cell_type": "code",
   "execution_count": 1,
   "metadata": {},
   "outputs": [],
   "source": [
    "import pickle\n",
    "import numpy as np\n",
    "from matplotlib import pyplot as plt"
   ]
  },
  {
   "cell_type": "markdown",
   "metadata": {},
   "source": [
    "select u from random distribution 0~1"
   ]
  },
  {
   "cell_type": "code",
   "execution_count": 2,
   "metadata": {},
   "outputs": [],
   "source": [
    "from scipy.stats import truncnorm\n",
    "# normal distribution 0~1\n",
    "lower, upper = 0, 1\n",
    "mu, sigma = 0.5, 0.2\n",
    "distribution = truncnorm(\n",
    "    (lower - mu) / sigma, (upper - mu) / sigma, loc=mu, scale=sigma)"
   ]
  },
  {
   "cell_type": "markdown",
   "metadata": {},
   "source": [
    "functions"
   ]
  },
  {
   "cell_type": "code",
   "execution_count": 3,
   "metadata": {},
   "outputs": [],
   "source": [
    "def calculate_obj(b, Beta, u, n):\n",
    "    q = np.sum(b, axis=1) # sum over j\n",
    "    p = np.sum(b, axis=0) # sum over i\n",
    "\n",
    "    obj = np.sum(p * np.log(p/Beta)) - np.sum(b * np.log(u)) + np.sum(p * np.log(p / q))\n",
    "\n",
    "    return obj \n",
    "\n",
    "def update_b(b, Beta, u, grad_b_history, learning_rate, n):\n",
    "    q = np.sum(b, axis=1) # sum over j\n",
    "    p = np.sum(b, axis=0) # sum over i\n",
    "\n",
    "    grad_b_term1 = np.array([[np.log(p[j]/Beta[j])+1 for j in range(n)] for i in range(n)] )\n",
    "    grad_b_term2 = -np.log(u)\n",
    "    grad_b_KL_term = np.array([[0.0]*n for i in range(n)])\n",
    "    for i in range(n):\n",
    "        for j in range(n):\n",
    "            if i==j:\n",
    "                grad_b_KL_term[i][j] = np.log(p[j]/q[j]) + ((q[j]-b[i][j])-(p[j]-b[i][j]) )/q[j] \n",
    "            else:\n",
    "                grad_b_KL_term[i][j] = -p[i]/q[i] + 1 + np.log(p[j]/q[j]) \n",
    "\n",
    "    grad_b = grad_b_term1 + grad_b_term2 + grad_b_KL_term\n",
    "\n",
    "    learning_rate = learning_rate\n",
    "    # GD\n",
    "    b = b - learning_rate * grad_b\n",
    "    # b_{ij} >= 0\n",
    "    b = np.where(b<0, 0, b)\n",
    "\n",
    "    grad_b_history.append(grad_b)\n",
    "    \n",
    "    return b\n",
    "\n",
    "\n",
    "def update_Beta(Beta, b, u, grad_Beta_history, learning_rate, n):\n",
    "    p = np.sum(b, axis=0)\n",
    "    grad_Beta = np.array([-p[j]/Beta[j] for j in range(n)])\n",
    "    learning_rate = learning_rate\n",
    "    # GD\n",
    "    Beta = Beta - learning_rate * grad_Beta\n",
    "    # Beta_i >= 0\n",
    "    Beta = np.where(Beta<0, 0, Beta)\n",
    "    # Beta_i <= p_j/u_{ij}\n",
    "    for i in range(len(Beta)):\n",
    "        if Beta[i]<=np.min([p[j]/u[i][j] for j in range(n)]):\n",
    "            pass\n",
    "        else:\n",
    "            Beta[i] = np.min([p[j]/u[i][j] for j in range(n)])\n",
    "\n",
    "    grad_Beta_history.append(grad_Beta)\n",
    "\n",
    "    return Beta\n",
    "    \n",
    "def calculate_p_q(b):\n",
    "    # constraint: sumj bij = q\n",
    "    q = np.sum(b, axis=1)\n",
    "    # constraint: sumi bij = p\n",
    "    p = np.sum(b, axis=0) \n",
    "\n",
    "    return p, q\n",
    "\n",
    "def vec2simple(vec,l):\n",
    "    m = len(vec)\n",
    "    vecS = np.sort(vec)[::-1]\n",
    "    vecC = np.cumsum(vecS) - l\n",
    "    vecH = vecS - vecC / (np.arange(m)+1)\n",
    "\n",
    "    r = np.max(np.where(vecH>0)[0])\n",
    "    t = vecC[r] / (r+1)\n",
    "\n",
    "    return np.maximum(0, vec - t)\n",
    "\n",
    "def project_q(q, b, n):\n",
    "    for i in range(n):\n",
    "        if q[i]>=1:\n",
    "            pass\n",
    "        else:\n",
    "            b[i] = vec2simple(b[i],1)\n",
    "            q[i] = np.sum(b[i])\n",
    "    return b\n",
    "\n",
    "\n",
    "def project_p(p, b, n):\n",
    "    for i in range(n):\n",
    "        if p[i]>=1:\n",
    "            pass\n",
    "        else:\n",
    "            b.T[i] = vec2simple(b.T[i],1)\n",
    "            p[i] = np.sum(b.T[i])\n",
    "    return b"
   ]
  },
  {
   "cell_type": "markdown",
   "metadata": {},
   "source": [
    "main function"
   ]
  },
  {
   "cell_type": "code",
   "execution_count": 4,
   "metadata": {},
   "outputs": [],
   "source": [
    "def start_experiment(T, learning_rate, u, n):\n",
    "    '''\n",
    "    Parameters\n",
    "    ----------\n",
    "        T: iterations\n",
    "        learning_rate: stepsize\n",
    "        u: (int)random_state, (ndarray)input array\n",
    "        n: number of agents\n",
    "    \n",
    "    Return\n",
    "    ------\n",
    "        result: experiment results\n",
    "    '''\n",
    "\n",
    "    if type(u)==int:\n",
    "        random_state = u\n",
    "        u = distribution.rvs((n,n),random_state=random_state)\n",
    "    elif type(u)==np.ndarray:\n",
    "        random_state = 'given'\n",
    "        u = u\n",
    "    else:\n",
    "        print('Not a valid input u')\n",
    "\n",
    "    for t in range(T):  \n",
    "        if t==0:     \n",
    "            b_history = []\n",
    "            b = np.full((n,n),1/n)    \n",
    "            b_history.append(b)\n",
    "\n",
    "            q_history = []\n",
    "            p_history = []\n",
    "            q = np.sum(b, axis=1)\n",
    "            p = np.sum(b, axis=0)\n",
    "            q_history.append(q)\n",
    "            p_history.append(p)\n",
    "\n",
    "            Beta_history = []\n",
    "            Beta=np.full(n,1.0)\n",
    "            Beta_history.append(Beta)\n",
    "\n",
    "            obj_history = []\n",
    "            obj = calculate_obj(b, Beta, u, n)\n",
    "            obj_history.append(obj)\n",
    "            avg_obj_history = [obj]\n",
    "            \n",
    "            grad_b_history = [np.zeros((n,n))]\n",
    "            grad_Beta_history = [np.zeros(n)]\n",
    "\n",
    "            kl_history = [np.sum(p * np.log(p / q))]\n",
    "            \n",
    "        else: \n",
    "            b = update_b(b, Beta, u, grad_b_history, learning_rate, n)\n",
    "            p, q = calculate_p_q(b)\n",
    "\n",
    "            b = project_q(q, b, n)\n",
    "            p, q = calculate_p_q(b)\n",
    "            b = project_p(p, b, n)\n",
    "            p, q = calculate_p_q(b)\n",
    "            b_history.append(b)\n",
    "            q_history.append(q)\n",
    "            p_history.append(p)\n",
    "\n",
    "            Beta = update_Beta(Beta, b, u, grad_Beta_history, learning_rate, n)\n",
    "            Beta_history.append(Beta)\n",
    "  \n",
    "            obj = calculate_obj(b, Beta, u, n)\n",
    "            obj_history.append(obj)\n",
    "            avg_obj_history.append((avg_obj_history[-1] * len(avg_obj_history) + obj)/(len(avg_obj_history)+1))\n",
    "\n",
    "            kl_history.append(np.sum(p * np.log(p / q)))\n",
    "\n",
    "    result = {\n",
    "        'T': T,\n",
    "        'lr': learning_rate,\n",
    "        'n': n,\n",
    "        'u': u,\n",
    "        'random_state': random_state,\n",
    "        'objective': obj_history[-1],\n",
    "        'min_obj': np.min(obj_history),\n",
    "        'obj_history': obj_history,\n",
    "        'avg_obj_history': avg_obj_history,\n",
    "        'b_history': b_history,\n",
    "        'Beta_history': Beta_history,\n",
    "        'q_history': q_history,\n",
    "        'p_history': p_history,\n",
    "        'grad_b_history': grad_b_history,\n",
    "        'grad_Beta_history': grad_Beta_history,\n",
    "        'kl_history': kl_history\n",
    "        \n",
    "    }\n",
    "    # save to pickle for reuse\n",
    "    with open('experiment/KL_BCGP/n_{}_u_{}_lr{}_iter{}.pickle'.format(n,random_state,learning_rate,T), 'wb') as f:\n",
    "        pickle.dump(result, f)\n",
    "\n",
    "    return result\n",
    "    \n"
   ]
  },
  {
   "cell_type": "markdown",
   "metadata": {},
   "source": [
    "draw plt functions"
   ]
  },
  {
   "cell_type": "code",
   "execution_count": 5,
   "metadata": {},
   "outputs": [],
   "source": [
    "def draw_obj_plt(result):\n",
    "    # plot obj curve\n",
    "    T = result['T']\n",
    "    learning_rate = result['lr']\n",
    "    random_state = result['random_state']\n",
    "    n = result['n']\n",
    "\n",
    "    t = range(T)\n",
    "    plt.plot(t, result['obj_history'], label='obj', c='b')\n",
    "    plt.plot(t, result['avg_obj_history'], label='average_obj', c='r')\n",
    "    plt.plot(t, [0]*T, c='black', linestyle='dashed')\n",
    "    # plt.scatter(t[-1], result['objective'], c='y', label='obj={}'.format(result['objective']))\n",
    "    # plt.scatter(np.argmin(result['obj_history']), np.min(result['obj_history']), c='g', label='min={}\\n t={}'.format(np.min(result['obj_history']), np.argmin(result['obj_history'])))\n",
    "    plt.title('KL_BCGP n={} u={} iter={} lr={}'.format(n,random_state,T,learning_rate))\n",
    "    plt.xlabel('t')\n",
    "    plt.ylabel('obj')\n",
    "    plt.legend()\n",
    "    plt.savefig('experiment/KL_BCGP/obj/KL_BCGP_n_{}_u_{}_lr{}_{}iter.png'.format(n,random_state,learning_rate,T))\n",
    "\n",
    "def draw_multiple_obj_plt(result1, result2, result3):\n",
    "    # plot obj curve\n",
    "    T = result1['T']\n",
    "    learning_rate = result1['lr']\n",
    "    random_state = result1['random_state']\n",
    "    n = result1['n']\n",
    "\n",
    "    t = range(T)\n",
    "    plt.plot(t, result1['obj_history'], label='Orig BCGP obj', c='c')\n",
    "    plt.plot(t, result2['obj_history'], label='KL BCGP obj', c='y')\n",
    "    plt.plot(t, result3['obj_history'], label='KL GD-min obj', c='m')\n",
    "   \n",
    "    plt.plot(t, [0]*T, c='black', linestyle='dashed')\n",
    "    # plt.scatter(t[-1], result['objective'], c='y', label='obj={}'.format(result['objective']))\n",
    "    # plt.scatter(np.argmin(result['obj_history']), np.min(result['obj_history']), c='g', label='min={}\\n t={}'.format(np.min(result['obj_history']), np.argmin(result['obj_history'])))\n",
    "    plt.title('Group1_Orig_vs_KL n={} u={} iter={} lr={}'.format(n,random_state,T,learning_rate))\n",
    "    plt.xlabel('t')\n",
    "    plt.ylabel('obj')\n",
    "    plt.legend()\n",
    "    plt.savefig('experiment/Group1_Orig_vs_KL/Orig_vs_KL_n_{}_u_{}_lr{}_{}iter.png'.format(n,random_state,learning_rate,T))\n",
    "\n"
   ]
  },
  {
   "cell_type": "code",
   "execution_count": 6,
   "metadata": {},
   "outputs": [],
   "source": [
    "def summary(result):\n",
    "    n = result['n']\n",
    "    u = result['u']\n",
    "    random_state = result['random_state']\n",
    "    b = result['b_history'][-1]\n",
    "    Beta = result['Beta_history'][-1]\n",
    "    p = result['p_history'][-1]\n",
    "    q = result['q_history'][-1]\n",
    "    obj = result['objective']\n",
    "\n",
    "\n",
    "    term1 = np.sum(p * np.log(p/Beta)) \n",
    "    term2 = np.sum(b * np.log(u)) \n",
    "    kl_term = np.sum(p * np.log(p / q)) \n",
    "    print('n',n)\n",
    "    print('u',u)\n",
    "    print('random_state',random_state)\n",
    "    print('---------------------------------------') \n",
    "    print('term1',term1)\n",
    "    print('term2',term2)\n",
    "    print('kl_term',kl_term)\n",
    "    print('---------------------------------------') \n",
    "    print('obj',obj)                  \n",
    "    print('b',b)\n",
    "    print('Beta',Beta)\n",
    "    print('q',q)\n",
    "    print('p',p)"
   ]
  },
  {
   "cell_type": "markdown",
   "metadata": {},
   "source": [
    "start experiments"
   ]
  },
  {
   "cell_type": "code",
   "execution_count": 7,
   "metadata": {},
   "outputs": [],
   "source": [
    "result = start_experiment(10000, 0.001, 1, 3)"
   ]
  },
  {
   "cell_type": "code",
   "execution_count": 8,
   "metadata": {},
   "outputs": [
    {
     "name": "stdout",
     "output_type": "stream",
     "text": [
      "n 3\n",
      "u [[0.45862438 0.61513834 0.00127856]\n",
      " [0.39786394 0.29369125 0.24069981]\n",
      " [0.32453616 0.42157274 0.44832023]]\n",
      "random_state 1\n",
      "---------------------------------------\n",
      "term1 -2.2107049658368307\n",
      "term2 -2.216029017333468\n",
      "kl_term 3.2136734032521715e-07\n",
      "---------------------------------------\n",
      "obj 0.005324372863977386\n",
      "b [[8.37674141e-04 9.98867548e-01 6.22145101e-04]\n",
      " [9.97946797e-01 1.16232559e-03 1.21824461e-03]\n",
      " [1.21552899e-03 9.52227795e-04 9.98159610e-01]]\n",
      "Beta [1.62724713 2.51342205 2.23054846]\n",
      "q [1.00032737 1.00032737 1.00032737]\n",
      "p [1.        1.0009821 1.       ]\n"
     ]
    }
   ],
   "source": [
    "summary(result)"
   ]
  },
  {
   "cell_type": "code",
   "execution_count": 9,
   "metadata": {},
   "outputs": [
    {
     "data": {
      "image/png": "[encoded data removed]",
      "text/plain": [
       "<Figure size 432x288 with 1 Axes>"
      ]
     },
     "metadata": {
      "needs_background": "light"
     },
     "output_type": "display_data"
    }
   ],
   "source": [
    "draw_obj_plt(result)"
   ]
  },
  {
   "cell_type": "code",
   "execution_count": 10,
   "metadata": {},
   "outputs": [],
   "source": [
    "\n",
    "with open('experiment/Orig_BCGP/n_3_u_1_lr0.001_iter10000.pickle', 'rb') as f:\n",
    "    Orig_BCGP = pickle.load(f)\n",
    "with open('experiment/KL_BCGP/n_3_u_1_lr0.001_iter10000.pickle', 'rb') as f:\n",
    "    KL_BCGP = pickle.load(f)\n",
    "with open('experiment/KL_GD-min/n_3_u_1_lr0.001_iter10000.pickle', 'rb') as f:\n",
    "    KL_GD_min = pickle.load(f)\n",
    "draw_multiple_obj_plt(Orig_BCGP, KL_BCGP, KL_GD_min)\n",
    "plt.close()"
   ]
  }
 ],
 "metadata": {
  "kernelspec": {
   "display_name": "Python 3.9.12 ('base')",
   "language": "python",
   "name": "python3"
  },
  "language_info": {
   "codemirror_mode": {
    "name": "ipython",
    "version": 3
   },
   "file_extension": ".py",
   "mimetype": "text/x-python",
   "name": "python",
   "nbconvert_exporter": "python",
   "pygments_lexer": "ipython3",
   "version": "3.9.12"
  },
  "orig_nbformat": 4,
  "vscode": {
   "interpreter": {
    "hash": "ccd93ba6ed376d2539795961ccf952f92bfc45f95bfd3095f64861224aa2aeef"
   }
  }
 },
 "nbformat": 4,
 "nbformat_minor": 2
}
