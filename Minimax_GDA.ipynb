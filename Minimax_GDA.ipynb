{
 "cells": [
  {
   "cell_type": "code",
   "execution_count": 1,
   "metadata": {},
   "outputs": [],
   "source": [
    "import pickle\n",
    "import numpy as np\n",
    "from matplotlib import pyplot as plt"
   ]
  },
  {
   "cell_type": "markdown",
   "metadata": {},
   "source": [
    "select u from random distribution 0~1"
   ]
  },
  {
   "cell_type": "code",
   "execution_count": 2,
   "metadata": {},
   "outputs": [],
   "source": [
    "from scipy.stats import truncnorm\n",
    "# normal distribution 0~1\n",
    "lower, upper = 0, 1\n",
    "mu, sigma = 0.5, 0.2\n",
    "distribution = truncnorm(\n",
    "    (lower - mu) / sigma, (upper - mu) / sigma, loc=mu, scale=sigma)"
   ]
  },
  {
   "cell_type": "code",
   "execution_count": 3,
   "metadata": {},
   "outputs": [
    {
     "data": {
      "image/png": "[encoded data removed]",
      "text/plain": [
       "<Figure size 432x288 with 2 Axes>"
      ]
     },
     "metadata": {
      "needs_background": "light"
     },
     "output_type": "display_data"
    }
   ],
   "source": [
    "x = distribution.rvs((3,3),random_state=1)\n",
    "plt.imshow(x)\n",
    "plt.colorbar()\n",
    "plt.show()\n",
    "plt.close()"
   ]
  },
  {
   "cell_type": "markdown",
   "metadata": {},
   "source": [
    "functions"
   ]
  },
  {
   "cell_type": "code",
   "execution_count": 4,
   "metadata": {},
   "outputs": [],
   "source": [
    "def obj_func(b_Beta, multiplier, u, n):\n",
    "    b = b_Beta[:n]\n",
    "    Beta = b_Beta[n]\n",
    "    q = np.sum(b, axis=1) # sum over j\n",
    "    p = np.sum(b, axis=0) # sum over i\n",
    "    m1 = multiplier[0]\n",
    "    m2 = multiplier[1:n+1]\n",
    "    m3 = multiplier[n+1]\n",
    "    m4 = multiplier[n+2]\n",
    "    m5 = multiplier[n+3:2*n+3]\n",
    "    \n",
    "    obj = np.sum(p * np.log((p/Beta).astype(np.float64))) - np.sum(b * np.log(u)) \\\n",
    "        + np.sum(m1 * (p - q)) + np.sum(m2 * (Beta.reshape((n,1)) - p/u)) \\\n",
    "        + np.sum(m3 * (1 - p)) + np.sum(m4 * (1 - q)) \\\n",
    "        + np.sum(m5 * (0 - b)) \n",
    "\n",
    "    return obj\n",
    "\n",
    "def update_b_Beta(b_Beta, multiplier, u, grad_b_Beta_history, learning_rate, n):\n",
    "   \n",
    "    b = b_Beta[:n]\n",
    "    Beta = b_Beta[n]\n",
    "    q = np.sum(b, axis=1) # sum over j\n",
    "    p = np.sum(b, axis=0) # sum over i\n",
    "    m1 = multiplier[0]\n",
    "    m2 = multiplier[1:n+1]\n",
    "    m3 = multiplier[n+1]\n",
    "    m4 = multiplier[n+2]\n",
    "    m5 = multiplier[n+3:2*n+3]\n",
    "\n",
    "    grad_b_term1 = np.array([[np.log(p[j]/Beta[j])+1 for j in range(n)] for i in range(n)] )\n",
    "    grad_b_term2 = -np.log(u)\n",
    "    grad_b_m1_term = np.array([[0.0]*n for i in range(n)])\n",
    "    for i in range(n):\n",
    "        for j in range(n):\n",
    "            if i==j:\n",
    "                grad_b_m1_term[i][j] = 0.0\n",
    "            else:\n",
    "                grad_b_m1_term[i][j] = m1[j]-m1[i]\n",
    "    grad_b_m2_term = np.array([[np.sum([-m2[i][j]/u[i][j] for i in range(n)]) for j in range(n)] for row in range(n)])\n",
    "    grad_b_m3_term = np.array([[-m3[j] for j in range(n)] for i in range(n)])\n",
    "    grad_b_m4_term = np.array([[-m4[j] for j in range(n)] for i in range(n)]).T\n",
    "    grad_b_m5_term = -m5 \n",
    "    grad_Beta_term1 = np.array([[-p[j]/Beta[j] for j in range(n)]])\n",
    "    grad_Beta_m2_term = np.array([[np.sum(m2,axis=1)[j] for j in range(n)]]) \n",
    "\n",
    "    grad_b = grad_b_term1 + grad_b_term2 + grad_b_m1_term + grad_b_m2_term + grad_b_m3_term + grad_b_m4_term + grad_b_m5_term\n",
    "    grad_Beta = grad_Beta_term1 + grad_Beta_m2_term\n",
    "    grad_b_Beta = np.concatenate((grad_b, grad_Beta), axis=0)\n",
    "\n",
    "    learning_rate = learning_rate\n",
    "    # GD\n",
    "    b_Beta = b_Beta - learning_rate * grad_b_Beta\n",
    "\n",
    "    grad_b_Beta_history.append(grad_b_Beta)\n",
    "    \n",
    "    return b_Beta\n",
    "\n",
    "\n",
    "def calculate_p_q(b):\n",
    "    q = np.sum(b, axis=1) # sum over j\n",
    "    p = np.sum(b, axis=0) # sum over i\n",
    "    \n",
    "    return p, q\n",
    "    \n",
    "def update_multiplier(multiplier, b_Beta, u, grad_multiplier_history, learning_rate, n):\n",
    "    b = b_Beta[:n]\n",
    "    Beta = b_Beta[n]\n",
    "    q = np.sum(b, axis=1) # sum over j\n",
    "    p = np.sum(b, axis=0) # sum over i\n",
    "\n",
    "    grad_m1 = (p - q).reshape((1,n))\n",
    "    grad_m2 = Beta.reshape((n,1)) - p/u\n",
    "    grad_m3 = (1 - p).reshape((1,n))\n",
    "    grad_m4 = (1 - q).reshape((1,n))\n",
    "    grad_m5 = 0 - b \n",
    "    grad_m1_m2_m3_m4_m5 = np.concatenate((grad_m1, grad_m2, grad_m3, grad_m4, grad_m5), axis=0)\n",
    "    \n",
    "    learning_rate = learning_rate\n",
    "    # GA\n",
    "    multiplier = multiplier + learning_rate * grad_m1_m2_m3_m4_m5\n",
    "        \n",
    "    grad_multiplier_history.append(grad_m1_m2_m3_m4_m5)\n",
    "\n",
    "    multiplier[1:2*n+3] = np.where(multiplier[1:2*n+3]<0, 0, multiplier[1:2*n+3])\n",
    "\n",
    "    return multiplier"
   ]
  },
  {
   "cell_type": "markdown",
   "metadata": {},
   "source": [
    "main function"
   ]
  },
  {
   "cell_type": "code",
   "execution_count": 5,
   "metadata": {},
   "outputs": [],
   "source": [
    "def start_experiment(T, learning_rate, u, n):\n",
    "    '''\n",
    "    Parameters\n",
    "    ----------\n",
    "        T: iterations\n",
    "        learning_rate: stepsize\n",
    "        u: (int)random_state, (ndarray)input array\n",
    "        n: number of agents\n",
    "    \n",
    "    Return\n",
    "    ------\n",
    "        result: experiment results\n",
    "    '''\n",
    "\n",
    "    if type(u)==int:\n",
    "        random_state = u\n",
    "        u = distribution.rvs((n,n),random_state=random_state)\n",
    "    elif type(u)==np.ndarray:\n",
    "        random_state = 'given'\n",
    "        u = u\n",
    "    else:\n",
    "        print('Not a valid input u')\n",
    "        \n",
    "    for t in range(T):\n",
    "        if t==0:\n",
    "            b = np.full((n,n),1/n)     \n",
    "            q = np.sum(b, axis=1)\n",
    "            p = np.sum(b, axis=0)\n",
    "            q_history = [q]\n",
    "            p_history = [p]\n",
    "\n",
    "            Beta=np.full(n,1.0)\n",
    "            \n",
    "            b_Beta = np.concatenate((b, Beta.reshape((1,n))), axis=0)\n",
    "            b_Beta_history = [b_Beta]\n",
    "            \n",
    "            multiplier = np.zeros((2*n+3,n))\n",
    "            multiplier_history = [multiplier]\n",
    "\n",
    "            obj = obj_func(b_Beta, multiplier, u, n)\n",
    "            obj_history = [obj]\n",
    "            avg_obj_history = [obj]\n",
    "            \n",
    "            max_obj_when_x_history = [obj]\n",
    "            min_obj_when_y_history = []\n",
    "\n",
    "            grad_b_Beta_history = [np.zeros((n+1,n))]\n",
    "            grad_multiplier_history = [np.zeros((2*n+3,n))]\n",
    "    \n",
    "        else:\n",
    "            b_Beta = update_b_Beta(b_Beta, multiplier, u, grad_b_Beta_history, learning_rate, n)\n",
    "            b_Beta_history.append(b_Beta)\n",
    "            \n",
    "            b = b_Beta[:n]\n",
    "            p, q = calculate_p_q(b)\n",
    "            q_history.append(q)\n",
    "            p_history.append(p)\n",
    "\n",
    "            min_obj_when_y = obj_func(b_Beta, multiplier, u, n)\n",
    "            min_obj_when_y_history.append(min_obj_when_y)\n",
    "\n",
    "            multiplier = update_multiplier(multiplier, b_Beta, u, grad_multiplier_history, learning_rate, n)\n",
    "            multiplier_history.append(multiplier)\n",
    "\n",
    "            obj = obj_func(b_Beta, multiplier, u, n)\n",
    "            obj_history.append(obj)\n",
    "\n",
    "            max_obj_when_x_history.append(obj)\n",
    "\n",
    "            avg_obj_history.append((avg_obj_history[-1] * len(avg_obj_history) + obj)/(len(avg_obj_history)+1))\n",
    "    \n",
    "    b_Beta = update_b_Beta(b_Beta, multiplier, u, grad_b_Beta_history, learning_rate, n)\n",
    "    b_Beta_history.append(b_Beta)\n",
    "\n",
    "    b = b_Beta[:n]\n",
    "    p, q = calculate_p_q(b)\n",
    "    q_history.append(q)\n",
    "    p_history.append(p)\n",
    "\n",
    "    min_obj_when_y = obj_func(b_Beta, multiplier, u, n)\n",
    "    min_obj_when_y_history.append(min_obj_when_y)\n",
    "\n",
    "    result = {\n",
    "        'T': T,\n",
    "        'lr': learning_rate,\n",
    "        'n': n,\n",
    "        'u': u,\n",
    "        'random_state': random_state,\n",
    "        'objective': obj_history[-1],\n",
    "        'min_obj': np.min(obj_history),\n",
    "        'obj_history': obj_history,\n",
    "        'avg_obj_history': avg_obj_history,\n",
    "        'b_Beta_history': b_Beta_history,\n",
    "        'q_history': q_history,\n",
    "        'p_history': p_history,\n",
    "        'multiplier_history': multiplier_history,\n",
    "        'grad_b_Beta_history': grad_b_Beta_history,\n",
    "        'grad_multiplier_history': grad_multiplier_history,\n",
    "        'max_obj_when_x_history': max_obj_when_x_history,\n",
    "        'min_obj_when_y_history': min_obj_when_y_history\n",
    "    }\n",
    "    # save to pickle for reuse\n",
    "    with open('experiment/Minimax_GDA/n_{}_u_{}_lr{}_iter{}.pickle'.format(n,random_state,learning_rate,T), 'wb') as f:\n",
    "        pickle.dump(result, f)\n",
    "\n",
    "    return result"
   ]
  },
  {
   "cell_type": "markdown",
   "metadata": {},
   "source": [
    "draw plt functions"
   ]
  },
  {
   "cell_type": "code",
   "execution_count": 6,
   "metadata": {},
   "outputs": [],
   "source": [
    "def draw_obj_plt(result, ylim):\n",
    "    # plot obj curve\n",
    "    T = result['T']\n",
    "    learning_rate = result['lr']\n",
    "    random_state = result['random_state']\n",
    "    n = result['n']\n",
    "\n",
    "    t = range(T)\n",
    "    plt.plot(t, result['obj_history'], label='obj', c='b')\n",
    "    plt.plot(t, result['avg_obj_history'], label='average_obj', c='r')\n",
    "    plt.plot(t, [0]*T, c='black', linestyle='dashed')\n",
    "    # plt.scatter(t[-1], result['objective'], c='y', label='obj={}'.format(result['objective']))\n",
    "    # plt.scatter(np.argmin(result['obj_history']), np.min(result['obj_history']), c='g', label='min={}\\n t={}'.format(np.min(result['obj_history']), np.argmin(result['obj_history'])))\n",
    "    plt.title('Minimax_GDA n={} u={} iter={} lr={}'.format(n,random_state,T,learning_rate))\n",
    "    plt.xlabel('t')\n",
    "    plt.ylabel('obj')\n",
    "\n",
    "    if type(ylim)==tuple:\n",
    "        plt.ylim(ylim[0], ylim[1])\n",
    "    elif ylim==None:\n",
    "        plt.autoscale('both')\n",
    "        \n",
    "    plt.legend()\n",
    "    plt.savefig('experiment/Minimax_GDA/obj/Minimax_GDA_n_{}_u_{}_lr{}_{}iter.png'.format(n,random_state, learning_rate,T))\n",
    "\n",
    "def draw_duality_gap_plt(result, ylim):\n",
    "    # plot duality gap curve\n",
    "    T = result['T']\n",
    "    learning_rate = result['lr']\n",
    "    random_state = result['random_state']\n",
    "    n = result['n']\n",
    "\n",
    "    duality_gap_history = np.subtract(result['max_obj_when_x_history'], result['min_obj_when_y_history'] )\n",
    "\n",
    "    t = range(T)\n",
    "    plt.plot(t, duality_gap_history, label='duality gap', c='b')\n",
    "    plt.title('Minimax_GDA n={} u={} iter={} lr={}'.format(n,random_state,T,learning_rate))\n",
    "    plt.plot(t, [0]*T, c='black', linestyle='dashed')\n",
    "    plt.xlabel('t')\n",
    "    plt.ylabel('duality gap')\n",
    "\n",
    "    if type(ylim)==tuple:\n",
    "        plt.ylim(ylim[0], ylim[1])\n",
    "    elif ylim==None:\n",
    "        plt.autoscale('both')\n",
    "\n",
    "    plt.legend()\n",
    "    plt.savefig('experiment/Minimax_GDA/dual/Minimax_GDA_n_{}_u_{}_lr{}_{}iter.png'.format(n,random_state,learning_rate,T))\n",
    "\n",
    "def draw_distance_plt(result, best, ylim):\n",
    "    # plot distance between z and z* curve\n",
    "    T = result['T']\n",
    "    learning_rate = result['lr']\n",
    "    random_state = result['random_state']\n",
    "    n = result['n']\n",
    "\n",
    "    # approximate z* by running OGDA for much more iterations and taking the very last iterate\n",
    "    x_star = best['b_Beta_history'][-1]\n",
    "    y_star = best['multiplier_history'][-1]\n",
    "    x = result['b_Beta_history']\n",
    "    y = result['multiplier_history']\n",
    "    distance_history = []\n",
    "    \n",
    "    for t in range(T):\n",
    "        x = result['b_Beta_history'][t]\n",
    "        y = result['multiplier_history'][t]\n",
    "        distance = np.sqrt( np.sum(np.square(x - x_star)) + np.sum(np.square(y - y_star)))\n",
    "        distance_history.append(distance)\n",
    "    \n",
    "    t = range(T)\n",
    "    plt.plot(t, distance_history, label='distance', c='b')\n",
    "    plt.title('Minimax_GDA n={} u={} iter={} lr={}'.format(n,random_state,T,learning_rate))\n",
    "    plt.plot(t, [0]*T, c='black', linestyle='dashed')\n",
    "    plt.xlabel('t')\n",
    "    plt.ylabel('distance between z & z*')\n",
    "    \n",
    "    if type(ylim)==tuple:\n",
    "        plt.ylim(ylim[0], ylim[1])\n",
    "    elif ylim==None:\n",
    "        plt.autoscale('both')\n",
    "        \n",
    "    plt.legend()\n",
    "    plt.savefig('experiment/Minimax_GDA/distance/Minimax_GDA_n_{}_u_{}_lr{}_{}iter.png'.format(n,random_state,learning_rate,T))"
   ]
  },
  {
   "cell_type": "code",
   "execution_count": 7,
   "metadata": {},
   "outputs": [],
   "source": [
    "def summary(result):\n",
    "    n = result['n']\n",
    "    u = result['u']\n",
    "    random_state = result['random_state']\n",
    "    b = result['b_Beta_history'][-1][:n]\n",
    "    Beta = result['b_Beta_history'][-1][n]\n",
    "    p = result['p_history'][-1]\n",
    "    q = result['q_history'][-1]\n",
    "    m1 = result['multiplier_history'][-1][0]\n",
    "    m2 = result['multiplier_history'][-1][1:n+1]\n",
    "    m3 = result['multiplier_history'][-1][n+1]\n",
    "    m4 = result['multiplier_history'][-1][n+2]\n",
    "    m5 = result['multiplier_history'][-1][n+3:2*n+3]\n",
    "    obj = result['objective']\n",
    "\n",
    "    term1 = np.sum(p * np.log((p/Beta).astype(np.float64))) \n",
    "    term2 = np.sum(b * np.log(u)) \n",
    "    m1_term = np.sum(m1 * (p - q)) \n",
    "    m2_term = np.sum(m2 * (Beta.reshape((n,1)) - p/u)) \n",
    "    m3_term = np.sum(m3 * (1 - p)) \n",
    "    m4_term = np.sum(m4 * (1 - q)) \n",
    "    m5_term = np.sum(m5 * (0 - b)) \n",
    "    print('n',n)\n",
    "    print('u',u)\n",
    "    print('random_state',random_state)\n",
    "    print('---------------------------------------') \n",
    "    print('term1',term1)\n",
    "    print('term2',term2)\n",
    "    print('m1_term',m1_term)\n",
    "    print('m2_term',m2_term)\n",
    "    print('m3_term',m3_term)\n",
    "    print('m4_term',m4_term)\n",
    "    print('m5_term',m5_term)\n",
    "    print('---------------------------------------') \n",
    "    print('obj',obj)                  \n",
    "    print('b',b)\n",
    "    print('Beta',Beta)\n",
    "    print('q',q)\n",
    "    print('p',p)\n",
    "    print('m1',m1)\n",
    "    print('m2',m2)\n",
    "    print('m3',m3)\n",
    "    print('m4',m4)\n",
    "    print('m5',m5)"
   ]
  },
  {
   "cell_type": "markdown",
   "metadata": {},
   "source": [
    "start experiments"
   ]
  },
  {
   "cell_type": "code",
   "execution_count": 8,
   "metadata": {},
   "outputs": [],
   "source": [
    "result = start_experiment(1000000, 0.001, 1, 3)"
   ]
  },
  {
   "cell_type": "code",
   "execution_count": 9,
   "metadata": {},
   "outputs": [
    {
     "name": "stdout",
     "output_type": "stream",
     "text": [
      "n 3\n",
      "u [[0.45862438 0.61513834 0.00127856]\n",
      " [0.39786394 0.29369125 0.24069981]\n",
      " [0.32453616 0.42157274 0.44832023]]\n",
      "random_state 1\n",
      "---------------------------------------\n",
      "term1 -3.254794469539723\n",
      "term2 -2.3845894339908775\n",
      "m1_term 0.0009799165753026143\n",
      "m2_term -0.0002127092492453473\n",
      "m3_term 0.0\n",
      "m4_term 0.0\n",
      "m5_term 0.8934022234896827\n",
      "---------------------------------------\n",
      "obj 0.023989725855243726\n",
      "b [[ 0.1385321   1.5000801  -0.14702946]\n",
      " [ 1.47866747 -0.14611336  0.15214227]\n",
      " [-0.12942657  0.13321781  1.44260808]]\n",
      "Beta [2.41640848 3.73921431 3.23059659]\n",
      "q [1.49158274 1.48469638 1.44639933]\n",
      "p [1.487773   1.48718455 1.44772089]\n",
      "m1 [-0.13619209  0.24093374 -0.10474165]\n",
      "m2 [[0.         0.61606949 0.        ]\n",
      " [0.39607696 0.         0.        ]\n",
      " [0.         0.         0.44882466]]\n",
      "m3 [0. 0. 0.]\n",
      "m4 [0. 0. 0.]\n",
      "m5 [[0.27550764 0.         5.87106655]\n",
      " [0.         0.33017861 0.2916528 ]\n",
      " [0.70114964 0.19718871 0.        ]]\n"
     ]
    }
   ],
   "source": [
    "summary(result)"
   ]
  },
  {
   "cell_type": "code",
   "execution_count": 10,
   "metadata": {},
   "outputs": [
    {
     "data": {
      "image/png": "[encoded data removed]",
      "text/plain": [
       "<Figure size 432x288 with 1 Axes>"
      ]
     },
     "metadata": {
      "needs_background": "light"
     },
     "output_type": "display_data"
    }
   ],
   "source": [
    "draw_obj_plt(result, None)"
   ]
  },
  {
   "cell_type": "code",
   "execution_count": 11,
   "metadata": {},
   "outputs": [
    {
     "data": {
      "image/png": "[encoded data removed]",
      "text/plain": [
       "<Figure size 432x288 with 1 Axes>"
      ]
     },
     "metadata": {
      "needs_background": "light"
     },
     "output_type": "display_data"
    }
   ],
   "source": [
    "draw_duality_gap_plt(result, None)"
   ]
  },
  {
   "cell_type": "code",
   "execution_count": 12,
   "metadata": {},
   "outputs": [
    {
     "data": {
      "image/png": "[encoded data removed]",
      "text/plain": [
       "<Figure size 432x288 with 1 Axes>"
      ]
     },
     "metadata": {
      "needs_background": "light"
     },
     "output_type": "display_data"
    }
   ],
   "source": [
    "draw_distance_plt(result, result, None)"
   ]
  }
 ],
 "metadata": {
  "kernelspec": {
   "display_name": "Python 3.9.12 ('base')",
   "language": "python",
   "name": "python3"
  },
  "language_info": {
   "codemirror_mode": {
    "name": "ipython",
    "version": 3
   },
   "file_extension": ".py",
   "mimetype": "text/x-python",
   "name": "python",
   "nbconvert_exporter": "python",
   "pygments_lexer": "ipython3",
   "version": "3.9.12"
  },
  "orig_nbformat": 4,
  "vscode": {
   "interpreter": {
    "hash": "ccd93ba6ed376d2539795961ccf952f92bfc45f95bfd3095f64861224aa2aeef"
   }
  }
 },
 "nbformat": 4,
 "nbformat_minor": 2
}
